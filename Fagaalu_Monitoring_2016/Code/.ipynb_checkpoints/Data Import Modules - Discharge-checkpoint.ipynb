{
 "cells": [
  {
   "cell_type": "markdown",
   "metadata": {},
   "source": [
    "## Stage to Discharge\n",
    "\n",
    "#### This module will take the final, corrected stage data from the previous module and convert it to Discharge"
   ]
  },
  {
   "cell_type": "code",
   "execution_count": 10,
   "metadata": {
    "collapsed": false
   },
   "outputs": [
    {
     "name": "stdout",
     "output_type": "stream",
     "text": [
      "Start time: 18:20:45\n"
     ]
    }
   ],
   "source": [
    "#### Import Python modules\n",
    "## this determines if plots are static or interactive (inline for static pictures)\n",
    "%matplotlib notebook \n",
    "## Data Processing\n",
    "import os\n",
    "import numpy as np\n",
    "import pandas as pd\n",
    "#import math\n",
    "import datetime as dt\n",
    "import matplotlib\n",
    "import matplotlib.pyplot as plt\n",
    "## Set Pandas display options\n",
    "pd.set_option('display.large_repr', 'truncate')\n",
    "pd.set_option('display.width', 180)\n",
    "pd.set_option('display.max_rows', 1000)\n",
    "pd.set_option('display.max_columns', 10)\n",
    "#pd.set_option('display.precision', 3)\n",
    "\n",
    "\n",
    "#timer\n",
    "import datetime as dt\n",
    "now = dt.datetime.now()\n",
    "print 'Start time: '+now.strftime('%H:%M:%S')\n",
    "now_date = now.strftime('%d_%m_%Y')"
   ]
  },
  {
   "cell_type": "code",
   "execution_count": 3,
   "metadata": {
    "collapsed": true
   },
   "outputs": [],
   "source": [
    "#### DIRECTORIES\n",
    "Laptop = 'Alex' ## you can use the presets below\n",
    "\n",
    "if Laptop == 'Field': \n",
    "    maindir = \"C:/Users/geoguser/Desktop/FieldLaptop/AmSamFieldLaptop/Siumu's Folder/\"\n",
    "    dirs={'main':maindir}\n",
    "    \n",
    "if Laptop == 'Alex': \n",
    "    maindir = \"C:/Users/atm19/Documents/Github/Fagaalu_monitoring/Fagaalu_Monitoring_2016/\"\n",
    "    dirs={'main':maindir}\n",
    "    \n",
    "if Laptop == 'Trent': \n",
    "    maindir = \"C:/Users/atm19/Google Drive/AmSamFieldLaptop/Siumu's Folder/\" # <<<< TRENT ADD YOUR PATH HERE\n",
    "    dirs={'main':maindir}"
   ]
  },
  {
   "cell_type": "code",
   "execution_count": 4,
   "metadata": {
    "collapsed": false
   },
   "outputs": [],
   "source": [
    "## Year Interval Times \n",
    "start2016, stop2016 = dt.datetime(2016,1,1,0,0), dt.datetime(2016,6,1,11,59)   "
   ]
  },
  {
   "cell_type": "code",
   "execution_count": 5,
   "metadata": {
    "collapsed": true
   },
   "outputs": [],
   "source": [
    "## Import stage data from csv's (created in Module 1)\n",
    "\n",
    "## LBJ\n",
    "LBJ_stage = pd.DataFrame.from_csv(maindir+'3-LBJ/LBJ-PT-Stage-final.csv')\n",
    "\n",
    "## FOREST\n",
    "FOREST_stage = pd.DataFrame.from_csv(maindir+'1-FOREST/FOREST-PT-Stage-final.csv')"
   ]
  },
  {
   "cell_type": "markdown",
   "metadata": {},
   "source": [
    "#### Double check stage data is correctly read in (from the csv file)"
   ]
  },
  {
   "cell_type": "code",
   "execution_count": 14,
   "metadata": {
    "collapsed": false
   },
   "outputs": [
    {
     "data": {
      "text/html": [
       "<div style=\"max-height:1000px;max-width:1500px;overflow:auto;\">\n",
       "<table border=\"1\" class=\"dataframe\">\n",
       "  <thead>\n",
       "    <tr style=\"text-align: right;\">\n",
       "      <th></th>\n",
       "      <th>Abs Pres, kPa</th>\n",
       "      <th>Temp, C</th>\n",
       "      <th>index</th>\n",
       "      <th>Baropress</th>\n",
       "      <th>Pressure_compensated</th>\n",
       "      <th>raw_stage_cm</th>\n",
       "      <th>zshift_cm</th>\n",
       "      <th>corrected_stage_cm</th>\n",
       "      <th>stage_cm</th>\n",
       "    </tr>\n",
       "  </thead>\n",
       "  <tbody>\n",
       "    <tr>\n",
       "      <th>2016-02-06 16:15:00</th>\n",
       "      <td> 101.077142</td>\n",
       "      <td> 28.9</td>\n",
       "      <td> 2016-02-06 16:15:00</td>\n",
       "      <td> 100.608</td>\n",
       "      <td> 0.469142</td>\n",
       "      <td> 4.8</td>\n",
       "      <td> 10</td>\n",
       "      <td> 14.8</td>\n",
       "      <td> 14.8</td>\n",
       "    </tr>\n",
       "    <tr>\n",
       "      <th>2016-02-06 16:20:00</th>\n",
       "      <td> 101.116368</td>\n",
       "      <td> 28.9</td>\n",
       "      <td> 2016-02-06 16:20:00</td>\n",
       "      <td> 100.609</td>\n",
       "      <td> 0.507368</td>\n",
       "      <td> 5.2</td>\n",
       "      <td> 10</td>\n",
       "      <td> 15.2</td>\n",
       "      <td> 15.2</td>\n",
       "    </tr>\n",
       "    <tr>\n",
       "      <th>2016-02-06 16:25:00</th>\n",
       "      <td> 101.106561</td>\n",
       "      <td> 28.9</td>\n",
       "      <td> 2016-02-06 16:25:00</td>\n",
       "      <td> 100.610</td>\n",
       "      <td> 0.496561</td>\n",
       "      <td> 5.1</td>\n",
       "      <td> 10</td>\n",
       "      <td> 15.1</td>\n",
       "      <td> 15.1</td>\n",
       "    </tr>\n",
       "    <tr>\n",
       "      <th>2016-02-06 16:30:00</th>\n",
       "      <td> 101.077142</td>\n",
       "      <td> 28.9</td>\n",
       "      <td> 2016-02-06 16:30:00</td>\n",
       "      <td> 100.616</td>\n",
       "      <td> 0.461142</td>\n",
       "      <td> 4.7</td>\n",
       "      <td> 10</td>\n",
       "      <td> 14.7</td>\n",
       "      <td> 14.7</td>\n",
       "    </tr>\n",
       "    <tr>\n",
       "      <th>2016-02-06 16:35:00</th>\n",
       "      <td> 101.077142</td>\n",
       "      <td> 28.9</td>\n",
       "      <td> 2016-02-06 16:35:00</td>\n",
       "      <td> 100.608</td>\n",
       "      <td> 0.469142</td>\n",
       "      <td> 4.8</td>\n",
       "      <td> 10</td>\n",
       "      <td> 14.8</td>\n",
       "      <td> 14.8</td>\n",
       "    </tr>\n",
       "  </tbody>\n",
       "</table>\n",
       "<p>5 rows × 9 columns</p>\n",
       "</div>"
      ],
      "text/plain": [
       "                     Abs Pres, kPa  Temp, C                index  Baropress  Pressure_compensated  raw_stage_cm  zshift_cm  corrected_stage_cm  stage_cm\n",
       "2016-02-06 16:15:00     101.077142     28.9  2016-02-06 16:15:00    100.608              0.469142           4.8         10                14.8      14.8\n",
       "2016-02-06 16:20:00     101.116368     28.9  2016-02-06 16:20:00    100.609              0.507368           5.2         10                15.2      15.2\n",
       "2016-02-06 16:25:00     101.106561     28.9  2016-02-06 16:25:00    100.610              0.496561           5.1         10                15.1      15.1\n",
       "2016-02-06 16:30:00     101.077142     28.9  2016-02-06 16:30:00    100.616              0.461142           4.7         10                14.7      14.7\n",
       "2016-02-06 16:35:00     101.077142     28.9  2016-02-06 16:35:00    100.608              0.469142           4.8         10                14.8      14.8\n",
       "\n",
       "[5 rows x 9 columns]"
      ]
     },
     "execution_count": 14,
     "metadata": {},
     "output_type": "execute_result"
    }
   ],
   "source": [
    "LBJ_stage.dropna().head()\n"
   ]
  },
  {
   "cell_type": "code",
   "execution_count": 13,
   "metadata": {
    "collapsed": false,
    "scrolled": false
   },
   "outputs": [
    {
     "data": {
      "text/html": [
       "<div style=\"max-height:1000px;max-width:1500px;overflow:auto;\">\n",
       "<table border=\"1\" class=\"dataframe\">\n",
       "  <thead>\n",
       "    <tr style=\"text-align: right;\">\n",
       "      <th></th>\n",
       "      <th>Abs Pres, kPa</th>\n",
       "      <th>Temp, C</th>\n",
       "      <th>index</th>\n",
       "      <th>Baropress</th>\n",
       "      <th>Pressure_compensated</th>\n",
       "      <th>raw_stage_cm</th>\n",
       "    </tr>\n",
       "  </thead>\n",
       "  <tbody>\n",
       "    <tr>\n",
       "      <th>2016-02-05 11:40:00</th>\n",
       "      <td> 101.001</td>\n",
       "      <td> 26.0</td>\n",
       "      <td> 2016-02-05 11:40:00</td>\n",
       "      <td> 100.200</td>\n",
       "      <td> 0.801</td>\n",
       "      <td> 8.2</td>\n",
       "    </tr>\n",
       "    <tr>\n",
       "      <th>2016-02-05 11:45:00</th>\n",
       "      <td> 101.031</td>\n",
       "      <td> 25.9</td>\n",
       "      <td> 2016-02-05 11:45:00</td>\n",
       "      <td> 100.195</td>\n",
       "      <td> 0.836</td>\n",
       "      <td> 8.5</td>\n",
       "    </tr>\n",
       "    <tr>\n",
       "      <th>2016-02-05 11:50:00</th>\n",
       "      <td> 101.014</td>\n",
       "      <td> 25.9</td>\n",
       "      <td> 2016-02-05 11:50:00</td>\n",
       "      <td> 100.187</td>\n",
       "      <td> 0.827</td>\n",
       "      <td> 8.4</td>\n",
       "    </tr>\n",
       "    <tr>\n",
       "      <th>2016-02-05 11:55:00</th>\n",
       "      <td> 101.009</td>\n",
       "      <td> 25.9</td>\n",
       "      <td> 2016-02-05 11:55:00</td>\n",
       "      <td> 100.187</td>\n",
       "      <td> 0.822</td>\n",
       "      <td> 8.4</td>\n",
       "    </tr>\n",
       "    <tr>\n",
       "      <th>2016-02-05 12:00:00</th>\n",
       "      <td> 101.003</td>\n",
       "      <td> 25.9</td>\n",
       "      <td> 2016-02-05 12:00:00</td>\n",
       "      <td> 100.175</td>\n",
       "      <td> 0.828</td>\n",
       "      <td> 8.4</td>\n",
       "    </tr>\n",
       "  </tbody>\n",
       "</table>\n",
       "<p>5 rows × 6 columns</p>\n",
       "</div>"
      ],
      "text/plain": [
       "                     Abs Pres, kPa  Temp, C                index  Baropress  Pressure_compensated  raw_stage_cm\n",
       "2016-02-05 11:40:00        101.001     26.0  2016-02-05 11:40:00    100.200                 0.801           8.2\n",
       "2016-02-05 11:45:00        101.031     25.9  2016-02-05 11:45:00    100.195                 0.836           8.5\n",
       "2016-02-05 11:50:00        101.014     25.9  2016-02-05 11:50:00    100.187                 0.827           8.4\n",
       "2016-02-05 11:55:00        101.009     25.9  2016-02-05 11:55:00    100.187                 0.822           8.4\n",
       "2016-02-05 12:00:00        101.003     25.9  2016-02-05 12:00:00    100.175                 0.828           8.4\n",
       "\n",
       "[5 rows x 6 columns]"
      ]
     },
     "execution_count": 13,
     "metadata": {},
     "output_type": "execute_result"
    }
   ],
   "source": [
    "FOREST_stage.dropna().head()"
   ]
  },
  {
   "cell_type": "markdown",
   "metadata": {},
   "source": [
    "#### Import some code for calculating discharge from the surveyed cross section and the PT stage data\n",
    "#### "
   ]
  },
  {
   "cell_type": "code",
   "execution_count": 15,
   "metadata": {
    "collapsed": false
   },
   "outputs": [],
   "source": [
    "from Mannings_from_stage import Mannings_Q_from_stage_data\n",
    "Mannings_Q_from_stage_data()"
   ]
  },
  {
   "cell_type": "code",
   "execution_count": null,
   "metadata": {
    "collapsed": true
   },
   "outputs": [],
   "source": []
  },
  {
   "cell_type": "code",
   "execution_count": null,
   "metadata": {
    "collapsed": false
   },
   "outputs": [],
   "source": []
  },
  {
   "cell_type": "code",
   "execution_count": null,
   "metadata": {
    "collapsed": true
   },
   "outputs": [],
   "source": []
  }
 ],
 "metadata": {
  "kernelspec": {
   "display_name": "Python 2",
   "language": "python",
   "name": "python2"
  },
  "language_info": {
   "codemirror_mode": {
    "name": "ipython",
    "version": 2
   },
   "file_extension": ".py",
   "mimetype": "text/x-python",
   "name": "python",
   "nbconvert_exporter": "python",
   "pygments_lexer": "ipython2",
   "version": "2.7.10"
  }
 },
 "nbformat": 4,
 "nbformat_minor": 0
}
